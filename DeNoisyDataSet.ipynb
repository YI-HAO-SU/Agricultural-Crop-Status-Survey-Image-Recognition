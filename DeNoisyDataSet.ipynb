{
 "cells": [
  {
   "cell_type": "markdown",
   "id": "b61cc4f2",
   "metadata": {},
   "source": [
    "## Import modules"
   ]
  },
  {
   "cell_type": "code",
   "execution_count": 19,
   "id": "2b8dbb8c",
   "metadata": {},
   "outputs": [],
   "source": [
    "from torchvision import  transforms,datasets, models\n",
    "import torch\n",
    "import torch.nn as nn\n",
    "import math\n",
    "from torch.utils.data import random_split"
   ]
  },
  {
   "cell_type": "markdown",
   "id": "7c0f6205",
   "metadata": {},
   "source": [
    "## Private variables"
   ]
  },
  {
   "cell_type": "code",
   "execution_count": 25,
   "id": "2b4df309",
   "metadata": {},
   "outputs": [],
   "source": [
    "PATH_WEIGHTS = \"/work/u2785625/AI_Cup_2022/Weights\"\n",
    "local_dir = \"/work/u2785625/AI_Cup_2022/Datasets\"\n",
    "device = torch.device('cuda' if torch.cuda.is_available() else 'cpu')\n",
    "n_classes = 33\n",
    "proportion_Train = 0.8\n",
    "batch_size = 88\n",
    "shuffle = True\n",
    "numOfGPUs = 1"
   ]
  },
  {
   "cell_type": "markdown",
   "id": "f775e4f2",
   "metadata": {},
   "source": [
    "## Test transformation"
   ]
  },
  {
   "cell_type": "code",
   "execution_count": 12,
   "id": "95943671",
   "metadata": {},
   "outputs": [],
   "source": [
    "test_tfm = transforms.Compose([ #valid and grading\n",
    "    transforms.ToTensor(),\n",
    "    transforms.Resize((456,456)),\n",
    "    transforms.CenterCrop(456),\n",
    "    transforms.Normalize([.5, 0.5, 0.5], [0.5, 0.5, 0.5]), \n",
    "    \n",
    "])"
   ]
  },
  {
   "cell_type": "markdown",
   "id": "ba492b40",
   "metadata": {},
   "source": [
    "## Load model"
   ]
  },
  {
   "cell_type": "code",
   "execution_count": 13,
   "id": "babef303",
   "metadata": {},
   "outputs": [],
   "source": [
    "model = models.efficientnet_b5(weights='DEFAULT').to(device)\n",
    "num_ftrs = model.classifier[1].in_features\n",
    "model.fc = nn.Linear(num_ftrs, n_classes)\n",
    "model.load_state_dict(torch.load(PATH_WEIGHTS))\n",
    "model = nn.DataParallel(model)\n",
    "\n",
    "data = datasets.ImageFolder(root = local_dir, transform = test_tfm)"
   ]
  },
  {
   "cell_type": "markdown",
   "id": "5fc85194",
   "metadata": {},
   "source": [
    "## DataSet"
   ]
  },
  {
   "cell_type": "code",
   "execution_count": 26,
   "id": "5000da86",
   "metadata": {},
   "outputs": [
    {
     "name": "stdout",
     "output_type": "stream",
     "text": [
      "89514\n",
      "Number of training data :  71611\n",
      "Number of validation data :  17903\n"
     ]
    }
   ],
   "source": [
    "data = datasets.ImageFolder(root = local_dir, transform = test_tfm)\n",
    "n = len(data)\n",
    "print(n)\n",
    "\n",
    "n_TrainData = math.floor(n * proportion_Train)\n",
    "\n",
    "n_ValidData = n - n_TrainData\n",
    "\n",
    "print('Number of training data : ',n_TrainData)\n",
    "print('Number of validation data : ', n_ValidData)\n",
    "\n",
    "\n",
    "train_dataset, valid_dataset = random_split(\n",
    "    dataset=data,\n",
    "    lengths=[n_TrainData, n_ValidData],\n",
    "    generator=torch.Generator().manual_seed(0)\n",
    ")\n",
    "\n",
    "train_dataloader = torch.utils.data.DataLoader(train_dataset, batch_size = batch_size, shuffle = shuffle, num_workers = numOfGPUs * 4)\n",
    "valid_dataloader = torch.utils.data.DataLoader(valid_dataset, batch_size = batch_size, shuffle = shuffle, num_workers = numOfGPUs * 4)\n",
    "# -"
   ]
  },
  {
   "cell_type": "markdown",
   "id": "1fd467ad",
   "metadata": {},
   "source": [
    "# CleanLab"
   ]
  },
  {
   "cell_type": "markdown",
   "id": "97d6da69",
   "metadata": {},
   "source": [
    "## Import module"
   ]
  },
  {
   "cell_type": "code",
   "execution_count": 29,
   "id": "edf04c88",
   "metadata": {},
   "outputs": [
    {
     "ename": "ModuleNotFoundError",
     "evalue": "No module named 'cleanlab.pruning'",
     "output_type": "error",
     "traceback": [
      "\u001b[0;31m---------------------------------------------------------------------------\u001b[0m",
      "\u001b[0;31mModuleNotFoundError\u001b[0m                       Traceback (most recent call last)",
      "\u001b[0;32m/tmp/ipykernel_10256/3775800911.py\u001b[0m in \u001b[0;36m<module>\u001b[0;34m\u001b[0m\n\u001b[0;32m----> 1\u001b[0;31m \u001b[0;32mfrom\u001b[0m \u001b[0mcleanlab\u001b[0m\u001b[0;34m.\u001b[0m\u001b[0mpruning\u001b[0m \u001b[0;32mimport\u001b[0m \u001b[0mget_noise_indices\u001b[0m\u001b[0;34m\u001b[0m\u001b[0;34m\u001b[0m\u001b[0m\n\u001b[0m",
      "\u001b[0;31mModuleNotFoundError\u001b[0m: No module named 'cleanlab.pruning'"
     ]
    }
   ],
   "source": [
    "from cleanlab.pruning import get_noise_indices"
   ]
  },
  {
   "cell_type": "markdown",
   "id": "3881bdab",
   "metadata": {},
   "source": [
    "## Find label issues"
   ]
  },
  {
   "cell_type": "code",
   "execution_count": null,
   "id": "e94b688e",
   "metadata": {},
   "outputs": [],
   "source": [
    "y = data.classes\n",
    "\n",
    "\n",
    "\n",
    "ranked_label_issues = find_label_issues(\n",
    "    y,\n",
    "    pred_probs,\n",
    "    return_indices_ranked_by=\"self_confidence\",\n",
    ")"
   ]
  }
 ],
 "metadata": {
  "kernelspec": {
   "display_name": "Python 3 (ipykernel)",
   "language": "python",
   "name": "python3"
  },
  "language_info": {
   "codemirror_mode": {
    "name": "ipython",
    "version": 3
   },
   "file_extension": ".py",
   "mimetype": "text/x-python",
   "name": "python",
   "nbconvert_exporter": "python",
   "pygments_lexer": "ipython3",
   "version": "3.8.10"
  }
 },
 "nbformat": 4,
 "nbformat_minor": 5
}
